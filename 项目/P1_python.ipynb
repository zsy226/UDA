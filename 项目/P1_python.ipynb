{
 "cells": [
  {
   "cell_type": "markdown",
   "metadata": {},
   "source": [
    "# 使用python完成项目1的前提：学完pandas"
   ]
  },
  {
   "cell_type": "code",
   "execution_count": 1,
   "metadata": {},
   "outputs": [],
   "source": [
    "import pandas as pd\n",
    "import numpy as np\n",
    "%matplotlib inline\n"
   ]
  },
  {
   "cell_type": "code",
   "execution_count": 3,
   "metadata": {},
   "outputs": [],
   "source": [
    "#如果csv文件和.py/.ipynb文件不在一个文件夹内，需要标明文件路径\n",
    "df_china=pd.read_csv('C:\\\\Users\\\\lenovo\\\\Desktop\\\\results_china.csv')\n",
    "#C:\\\\Users\\\\lenovo\\\\Desktop\\\\results_china.csv"
   ]
  },
  {
   "cell_type": "code",
   "execution_count": 5,
   "metadata": {},
   "outputs": [],
   "source": [
    "#如果csv文件和.py/.ipynb文件在一个文件夹内，直接文件名即可，所以建议放在一个文件夹下\n",
    "df_china=pd.read_csv('results_china.csv')"
   ]
  },
  {
   "cell_type": "code",
   "execution_count": 6,
   "metadata": {},
   "outputs": [
    {
     "data": {
      "text/html": [
       "<div>\n",
       "<style scoped>\n",
       "    .dataframe tbody tr th:only-of-type {\n",
       "        vertical-align: middle;\n",
       "    }\n",
       "\n",
       "    .dataframe tbody tr th {\n",
       "        vertical-align: top;\n",
       "    }\n",
       "\n",
       "    .dataframe thead th {\n",
       "        text-align: right;\n",
       "    }\n",
       "</style>\n",
       "<table border=\"1\" class=\"dataframe\">\n",
       "  <thead>\n",
       "    <tr style=\"text-align: right;\">\n",
       "      <th></th>\n",
       "      <th>year</th>\n",
       "      <th>avg_temp</th>\n",
       "    </tr>\n",
       "  </thead>\n",
       "  <tbody>\n",
       "    <tr>\n",
       "      <th>0</th>\n",
       "      <td>1750</td>\n",
       "      <td>8.72</td>\n",
       "    </tr>\n",
       "    <tr>\n",
       "      <th>1</th>\n",
       "      <td>1751</td>\n",
       "      <td>7.98</td>\n",
       "    </tr>\n",
       "    <tr>\n",
       "      <th>2</th>\n",
       "      <td>1752</td>\n",
       "      <td>5.78</td>\n",
       "    </tr>\n",
       "    <tr>\n",
       "      <th>3</th>\n",
       "      <td>1753</td>\n",
       "      <td>8.39</td>\n",
       "    </tr>\n",
       "    <tr>\n",
       "      <th>4</th>\n",
       "      <td>1754</td>\n",
       "      <td>8.47</td>\n",
       "    </tr>\n",
       "  </tbody>\n",
       "</table>\n",
       "</div>"
      ],
      "text/plain": [
       "   year  avg_temp\n",
       "0  1750      8.72\n",
       "1  1751      7.98\n",
       "2  1752      5.78\n",
       "3  1753      8.39\n",
       "4  1754      8.47"
      ]
     },
     "execution_count": 6,
     "metadata": {},
     "output_type": "execute_result"
    }
   ],
   "source": [
    "df_global=pd.read_csv('results_global.csv')\n",
    "df_global.head()"
   ]
  },
  {
   "cell_type": "code",
   "execution_count": 7,
   "metadata": {},
   "outputs": [
    {
     "data": {
      "text/html": [
       "<div>\n",
       "<style scoped>\n",
       "    .dataframe tbody tr th:only-of-type {\n",
       "        vertical-align: middle;\n",
       "    }\n",
       "\n",
       "    .dataframe tbody tr th {\n",
       "        vertical-align: top;\n",
       "    }\n",
       "\n",
       "    .dataframe thead th {\n",
       "        text-align: right;\n",
       "    }\n",
       "</style>\n",
       "<table border=\"1\" class=\"dataframe\">\n",
       "  <thead>\n",
       "    <tr style=\"text-align: right;\">\n",
       "      <th></th>\n",
       "      <th>year</th>\n",
       "      <th>city</th>\n",
       "      <th>country</th>\n",
       "      <th>avg_temp</th>\n",
       "    </tr>\n",
       "  </thead>\n",
       "  <tbody>\n",
       "    <tr>\n",
       "      <th>0</th>\n",
       "      <td>1829</td>\n",
       "      <td>Anshan</td>\n",
       "      <td>China</td>\n",
       "      <td>11.80</td>\n",
       "    </tr>\n",
       "    <tr>\n",
       "      <th>1</th>\n",
       "      <td>1830</td>\n",
       "      <td>Anshan</td>\n",
       "      <td>China</td>\n",
       "      <td>7.12</td>\n",
       "    </tr>\n",
       "    <tr>\n",
       "      <th>2</th>\n",
       "      <td>1831</td>\n",
       "      <td>Anshan</td>\n",
       "      <td>China</td>\n",
       "      <td>6.02</td>\n",
       "    </tr>\n",
       "    <tr>\n",
       "      <th>3</th>\n",
       "      <td>1832</td>\n",
       "      <td>Anshan</td>\n",
       "      <td>China</td>\n",
       "      <td>6.00</td>\n",
       "    </tr>\n",
       "    <tr>\n",
       "      <th>4</th>\n",
       "      <td>1833</td>\n",
       "      <td>Anshan</td>\n",
       "      <td>China</td>\n",
       "      <td>6.59</td>\n",
       "    </tr>\n",
       "  </tbody>\n",
       "</table>\n",
       "</div>"
      ],
      "text/plain": [
       "   year    city country  avg_temp\n",
       "0  1829  Anshan   China     11.80\n",
       "1  1830  Anshan   China      7.12\n",
       "2  1831  Anshan   China      6.02\n",
       "3  1832  Anshan   China      6.00\n",
       "4  1833  Anshan   China      6.59"
      ]
     },
     "execution_count": 7,
     "metadata": {},
     "output_type": "execute_result"
    }
   ],
   "source": [
    "df_china.head()"
   ]
  },
  {
   "cell_type": "code",
   "execution_count": 8,
   "metadata": {},
   "outputs": [
    {
     "name": "stdout",
     "output_type": "stream",
     "text": [
      "<class 'pandas.core.frame.DataFrame'>\n",
      "RangeIndex: 6172 entries, 0 to 6171\n",
      "Data columns (total 4 columns):\n",
      "year        6172 non-null int64\n",
      "city        6172 non-null object\n",
      "country     6172 non-null object\n",
      "avg_temp    6125 non-null float64\n",
      "dtypes: float64(1), int64(1), object(2)\n",
      "memory usage: 193.0+ KB\n"
     ]
    }
   ],
   "source": [
    "#查看各列数据有多少，是否有缺失值\n",
    "df_china.info()"
   ]
  },
  {
   "cell_type": "code",
   "execution_count": 10,
   "metadata": {},
   "outputs": [],
   "source": [
    "#df_china['city']"
   ]
  },
  {
   "cell_type": "code",
   "execution_count": 11,
   "metadata": {},
   "outputs": [
    {
     "data": {
      "text/plain": [
       "array(['Anshan', 'Changchun', 'Changzhou', 'Chengdu', 'Dalian', 'Datong',\n",
       "       'Foshan', 'Fuzhou', 'Guangzhou', 'Guiyang', 'Handan', 'Hangzhou',\n",
       "       'Harbin', 'Hefei', 'Jilin', 'Jinan', 'Kunming', 'Lanzhou',\n",
       "       'Luoyang', 'Nanchang', 'Nanjing', 'Nanning', 'Qingdao', 'Qiqihar',\n",
       "       'Shanghai', 'Shenyang', 'Suzhou', 'Taiyuan', 'Tangshan', 'Tianjin',\n",
       "       'Wuhan', 'Wuxi', 'Xian', 'Xuzhou'], dtype=object)"
      ]
     },
     "execution_count": 11,
     "metadata": {},
     "output_type": "execute_result"
    }
   ],
   "source": [
    "#查看有多少个城市，返回城市列所有的唯一值（pandas的unique函数）\n",
    "df_china['city'].unique()"
   ]
  },
  {
   "cell_type": "code",
   "execution_count": 12,
   "metadata": {},
   "outputs": [
    {
     "data": {
      "text/plain": [
       "array(['Anshan', 'Changchun', 'Changzhou', 'Chengdu', 'Dalian', 'Datong',\n",
       "       'Foshan', 'Fuzhou', 'Guangzhou', 'Guiyang', 'Handan', 'Hangzhou',\n",
       "       'Harbin', 'Hefei', 'Jilin', 'Jinan', 'Kunming', 'Lanzhou',\n",
       "       'Luoyang', 'Nanchang', 'Nanjing', 'Nanning', 'Qingdao', 'Qiqihar',\n",
       "       'Shanghai', 'Shenyang', 'Suzhou', 'Taiyuan', 'Tangshan', 'Tianjin',\n",
       "       'Wuhan', 'Wuxi', 'Xian', 'Xuzhou'], dtype=object)"
      ]
     },
     "execution_count": 12,
     "metadata": {},
     "output_type": "execute_result"
    }
   ],
   "source": [
    "#定位到列的另一种写法，等同于上面那行代码\n",
    "df_china.city.unique()"
   ]
  },
  {
   "cell_type": "code",
   "execution_count": 13,
   "metadata": {},
   "outputs": [
    {
     "data": {
      "text/plain": [
       "Kunming      198\n",
       "Tianjin      194\n",
       "Changchun    194\n",
       "Tangshan     194\n",
       "Harbin       194\n",
       "Taiyuan      194\n",
       "Lanzhou      194\n",
       "Xian         194\n",
       "Qiqihar      194\n",
       "Datong       194\n",
       "Chengdu      194\n",
       "Shenyang     185\n",
       "Jilin        185\n",
       "Anshan       185\n",
       "Dalian       185\n",
       "Jinan        174\n",
       "Guangzhou    174\n",
       "Luoyang      174\n",
       "Nanning      174\n",
       "Foshan       174\n",
       "Handan       174\n",
       "Guiyang      174\n",
       "Changzhou    173\n",
       "Xuzhou       173\n",
       "Fuzhou       173\n",
       "Wuxi         173\n",
       "Suzhou       173\n",
       "Wuhan        173\n",
       "Nanjing      173\n",
       "Hefei        173\n",
       "Qingdao      173\n",
       "Shanghai     173\n",
       "Hangzhou     173\n",
       "Nanchang     173\n",
       "Name: city, dtype: int64"
      ]
     },
     "execution_count": 13,
     "metadata": {},
     "output_type": "execute_result"
    }
   ],
   "source": [
    "#输出该列的所有类型值，及对应个数（pandas的value_counts）\n",
    "df_china.city.value_counts()"
   ]
  },
  {
   "cell_type": "code",
   "execution_count": 15,
   "metadata": {},
   "outputs": [],
   "source": [
    "#筛选昆明的数据\n",
    "df_kunming=df_china[df_china.city=='Kunming']"
   ]
  },
  {
   "cell_type": "code",
   "execution_count": 16,
   "metadata": {},
   "outputs": [
    {
     "data": {
      "text/html": [
       "<div>\n",
       "<style scoped>\n",
       "    .dataframe tbody tr th:only-of-type {\n",
       "        vertical-align: middle;\n",
       "    }\n",
       "\n",
       "    .dataframe tbody tr th {\n",
       "        vertical-align: top;\n",
       "    }\n",
       "\n",
       "    .dataframe thead th {\n",
       "        text-align: right;\n",
       "    }\n",
       "</style>\n",
       "<table border=\"1\" class=\"dataframe\">\n",
       "  <thead>\n",
       "    <tr style=\"text-align: right;\">\n",
       "      <th></th>\n",
       "      <th>year</th>\n",
       "      <th>city</th>\n",
       "      <th>country</th>\n",
       "      <th>avg_temp</th>\n",
       "    </tr>\n",
       "  </thead>\n",
       "  <tbody>\n",
       "    <tr>\n",
       "      <th>2893</th>\n",
       "      <td>1816</td>\n",
       "      <td>Kunming</td>\n",
       "      <td>China</td>\n",
       "      <td>14.15</td>\n",
       "    </tr>\n",
       "    <tr>\n",
       "      <th>2894</th>\n",
       "      <td>1817</td>\n",
       "      <td>Kunming</td>\n",
       "      <td>China</td>\n",
       "      <td>13.13</td>\n",
       "    </tr>\n",
       "    <tr>\n",
       "      <th>2895</th>\n",
       "      <td>1818</td>\n",
       "      <td>Kunming</td>\n",
       "      <td>China</td>\n",
       "      <td>13.81</td>\n",
       "    </tr>\n",
       "    <tr>\n",
       "      <th>2896</th>\n",
       "      <td>1819</td>\n",
       "      <td>Kunming</td>\n",
       "      <td>China</td>\n",
       "      <td>13.15</td>\n",
       "    </tr>\n",
       "    <tr>\n",
       "      <th>2897</th>\n",
       "      <td>1820</td>\n",
       "      <td>Kunming</td>\n",
       "      <td>China</td>\n",
       "      <td>14.11</td>\n",
       "    </tr>\n",
       "  </tbody>\n",
       "</table>\n",
       "</div>"
      ],
      "text/plain": [
       "      year     city country  avg_temp\n",
       "2893  1816  Kunming   China     14.15\n",
       "2894  1817  Kunming   China     13.13\n",
       "2895  1818  Kunming   China     13.81\n",
       "2896  1819  Kunming   China     13.15\n",
       "2897  1820  Kunming   China     14.11"
      ]
     },
     "execution_count": 16,
     "metadata": {},
     "output_type": "execute_result"
    }
   ],
   "source": [
    "df_kunming.head()"
   ]
  },
  {
   "cell_type": "code",
   "execution_count": 17,
   "metadata": {},
   "outputs": [
    {
     "name": "stdout",
     "output_type": "stream",
     "text": [
      "<class 'pandas.core.frame.DataFrame'>\n",
      "Int64Index: 198 entries, 2893 to 3090\n",
      "Data columns (total 4 columns):\n",
      "year        198 non-null int64\n",
      "city        198 non-null object\n",
      "country     198 non-null object\n",
      "avg_temp    188 non-null float64\n",
      "dtypes: float64(1), int64(1), object(2)\n",
      "memory usage: 7.7+ KB\n"
     ]
    }
   ],
   "source": [
    "df_kunming.info()"
   ]
  },
  {
   "cell_type": "markdown",
   "metadata": {},
   "source": [
    "avg_temp 188，说明有缺失值，可以先看缺失值在哪些年"
   ]
  },
  {
   "cell_type": "code",
   "execution_count": 18,
   "metadata": {},
   "outputs": [],
   "source": [
    "#将昆明值降序排列\n",
    "df_kunming=df_kunming.sort_values(by='year')"
   ]
  },
  {
   "cell_type": "code",
   "execution_count": 19,
   "metadata": {},
   "outputs": [
    {
     "data": {
      "text/html": [
       "<div>\n",
       "<style scoped>\n",
       "    .dataframe tbody tr th:only-of-type {\n",
       "        vertical-align: middle;\n",
       "    }\n",
       "\n",
       "    .dataframe tbody tr th {\n",
       "        vertical-align: top;\n",
       "    }\n",
       "\n",
       "    .dataframe thead th {\n",
       "        text-align: right;\n",
       "    }\n",
       "</style>\n",
       "<table border=\"1\" class=\"dataframe\">\n",
       "  <thead>\n",
       "    <tr style=\"text-align: right;\">\n",
       "      <th></th>\n",
       "      <th>year</th>\n",
       "      <th>city</th>\n",
       "      <th>country</th>\n",
       "      <th>avg_temp</th>\n",
       "    </tr>\n",
       "  </thead>\n",
       "  <tbody>\n",
       "    <tr>\n",
       "      <th>2893</th>\n",
       "      <td>1816</td>\n",
       "      <td>Kunming</td>\n",
       "      <td>China</td>\n",
       "      <td>14.15</td>\n",
       "    </tr>\n",
       "    <tr>\n",
       "      <th>2894</th>\n",
       "      <td>1817</td>\n",
       "      <td>Kunming</td>\n",
       "      <td>China</td>\n",
       "      <td>13.13</td>\n",
       "    </tr>\n",
       "    <tr>\n",
       "      <th>2895</th>\n",
       "      <td>1818</td>\n",
       "      <td>Kunming</td>\n",
       "      <td>China</td>\n",
       "      <td>13.81</td>\n",
       "    </tr>\n",
       "    <tr>\n",
       "      <th>2896</th>\n",
       "      <td>1819</td>\n",
       "      <td>Kunming</td>\n",
       "      <td>China</td>\n",
       "      <td>13.15</td>\n",
       "    </tr>\n",
       "    <tr>\n",
       "      <th>2897</th>\n",
       "      <td>1820</td>\n",
       "      <td>Kunming</td>\n",
       "      <td>China</td>\n",
       "      <td>14.11</td>\n",
       "    </tr>\n",
       "    <tr>\n",
       "      <th>2898</th>\n",
       "      <td>1821</td>\n",
       "      <td>Kunming</td>\n",
       "      <td>China</td>\n",
       "      <td>14.14</td>\n",
       "    </tr>\n",
       "    <tr>\n",
       "      <th>2899</th>\n",
       "      <td>1822</td>\n",
       "      <td>Kunming</td>\n",
       "      <td>China</td>\n",
       "      <td>14.29</td>\n",
       "    </tr>\n",
       "    <tr>\n",
       "      <th>2900</th>\n",
       "      <td>1823</td>\n",
       "      <td>Kunming</td>\n",
       "      <td>China</td>\n",
       "      <td>14.37</td>\n",
       "    </tr>\n",
       "    <tr>\n",
       "      <th>2901</th>\n",
       "      <td>1824</td>\n",
       "      <td>Kunming</td>\n",
       "      <td>China</td>\n",
       "      <td>NaN</td>\n",
       "    </tr>\n",
       "    <tr>\n",
       "      <th>2902</th>\n",
       "      <td>1825</td>\n",
       "      <td>Kunming</td>\n",
       "      <td>China</td>\n",
       "      <td>NaN</td>\n",
       "    </tr>\n",
       "  </tbody>\n",
       "</table>\n",
       "</div>"
      ],
      "text/plain": [
       "      year     city country  avg_temp\n",
       "2893  1816  Kunming   China     14.15\n",
       "2894  1817  Kunming   China     13.13\n",
       "2895  1818  Kunming   China     13.81\n",
       "2896  1819  Kunming   China     13.15\n",
       "2897  1820  Kunming   China     14.11\n",
       "2898  1821  Kunming   China     14.14\n",
       "2899  1822  Kunming   China     14.29\n",
       "2900  1823  Kunming   China     14.37\n",
       "2901  1824  Kunming   China       NaN\n",
       "2902  1825  Kunming   China       NaN"
      ]
     },
     "execution_count": 19,
     "metadata": {},
     "output_type": "execute_result"
    }
   ],
   "source": [
    "df_kunming.head(10)"
   ]
  },
  {
   "cell_type": "code",
   "execution_count": 20,
   "metadata": {},
   "outputs": [
    {
     "data": {
      "text/html": [
       "<div>\n",
       "<style scoped>\n",
       "    .dataframe tbody tr th:only-of-type {\n",
       "        vertical-align: middle;\n",
       "    }\n",
       "\n",
       "    .dataframe tbody tr th {\n",
       "        vertical-align: top;\n",
       "    }\n",
       "\n",
       "    .dataframe thead th {\n",
       "        text-align: right;\n",
       "    }\n",
       "</style>\n",
       "<table border=\"1\" class=\"dataframe\">\n",
       "  <thead>\n",
       "    <tr style=\"text-align: right;\">\n",
       "      <th></th>\n",
       "      <th>year</th>\n",
       "      <th>city</th>\n",
       "      <th>country</th>\n",
       "      <th>avg_temp</th>\n",
       "    </tr>\n",
       "  </thead>\n",
       "  <tbody>\n",
       "    <tr>\n",
       "      <th>2901</th>\n",
       "      <td>1824</td>\n",
       "      <td>Kunming</td>\n",
       "      <td>China</td>\n",
       "      <td>NaN</td>\n",
       "    </tr>\n",
       "    <tr>\n",
       "      <th>2902</th>\n",
       "      <td>1825</td>\n",
       "      <td>Kunming</td>\n",
       "      <td>China</td>\n",
       "      <td>NaN</td>\n",
       "    </tr>\n",
       "    <tr>\n",
       "      <th>2903</th>\n",
       "      <td>1826</td>\n",
       "      <td>Kunming</td>\n",
       "      <td>China</td>\n",
       "      <td>NaN</td>\n",
       "    </tr>\n",
       "    <tr>\n",
       "      <th>2904</th>\n",
       "      <td>1827</td>\n",
       "      <td>Kunming</td>\n",
       "      <td>China</td>\n",
       "      <td>NaN</td>\n",
       "    </tr>\n",
       "    <tr>\n",
       "      <th>2905</th>\n",
       "      <td>1828</td>\n",
       "      <td>Kunming</td>\n",
       "      <td>China</td>\n",
       "      <td>NaN</td>\n",
       "    </tr>\n",
       "    <tr>\n",
       "      <th>2906</th>\n",
       "      <td>1829</td>\n",
       "      <td>Kunming</td>\n",
       "      <td>China</td>\n",
       "      <td>NaN</td>\n",
       "    </tr>\n",
       "    <tr>\n",
       "      <th>2907</th>\n",
       "      <td>1830</td>\n",
       "      <td>Kunming</td>\n",
       "      <td>China</td>\n",
       "      <td>NaN</td>\n",
       "    </tr>\n",
       "    <tr>\n",
       "      <th>2908</th>\n",
       "      <td>1831</td>\n",
       "      <td>Kunming</td>\n",
       "      <td>China</td>\n",
       "      <td>NaN</td>\n",
       "    </tr>\n",
       "    <tr>\n",
       "      <th>2909</th>\n",
       "      <td>1832</td>\n",
       "      <td>Kunming</td>\n",
       "      <td>China</td>\n",
       "      <td>NaN</td>\n",
       "    </tr>\n",
       "    <tr>\n",
       "      <th>2916</th>\n",
       "      <td>1839</td>\n",
       "      <td>Kunming</td>\n",
       "      <td>China</td>\n",
       "      <td>NaN</td>\n",
       "    </tr>\n",
       "  </tbody>\n",
       "</table>\n",
       "</div>"
      ],
      "text/plain": [
       "      year     city country  avg_temp\n",
       "2901  1824  Kunming   China       NaN\n",
       "2902  1825  Kunming   China       NaN\n",
       "2903  1826  Kunming   China       NaN\n",
       "2904  1827  Kunming   China       NaN\n",
       "2905  1828  Kunming   China       NaN\n",
       "2906  1829  Kunming   China       NaN\n",
       "2907  1830  Kunming   China       NaN\n",
       "2908  1831  Kunming   China       NaN\n",
       "2909  1832  Kunming   China       NaN\n",
       "2916  1839  Kunming   China       NaN"
      ]
     },
     "execution_count": 20,
     "metadata": {},
     "output_type": "execute_result"
    }
   ],
   "source": [
    "#筛选所有avg_temp列为缺失值的行（空 null）\n",
    "df_kunming[df_kunming.avg_temp.isnull()]"
   ]
  },
  {
   "cell_type": "code",
   "execution_count": 21,
   "metadata": {},
   "outputs": [],
   "source": [
    "#看到主要集中在1839年以前，因此取这一年以后的数据\n",
    "df_kunming=df_kunming[df_kunming.year>1839]"
   ]
  },
  {
   "cell_type": "code",
   "execution_count": 22,
   "metadata": {},
   "outputs": [
    {
     "data": {
      "text/html": [
       "<div>\n",
       "<style scoped>\n",
       "    .dataframe tbody tr th:only-of-type {\n",
       "        vertical-align: middle;\n",
       "    }\n",
       "\n",
       "    .dataframe tbody tr th {\n",
       "        vertical-align: top;\n",
       "    }\n",
       "\n",
       "    .dataframe thead th {\n",
       "        text-align: right;\n",
       "    }\n",
       "</style>\n",
       "<table border=\"1\" class=\"dataframe\">\n",
       "  <thead>\n",
       "    <tr style=\"text-align: right;\">\n",
       "      <th></th>\n",
       "      <th>year</th>\n",
       "      <th>city</th>\n",
       "      <th>country</th>\n",
       "      <th>avg_temp</th>\n",
       "    </tr>\n",
       "  </thead>\n",
       "  <tbody>\n",
       "    <tr>\n",
       "      <th>2917</th>\n",
       "      <td>1840</td>\n",
       "      <td>Kunming</td>\n",
       "      <td>China</td>\n",
       "      <td>13.99</td>\n",
       "    </tr>\n",
       "    <tr>\n",
       "      <th>2918</th>\n",
       "      <td>1841</td>\n",
       "      <td>Kunming</td>\n",
       "      <td>China</td>\n",
       "      <td>14.21</td>\n",
       "    </tr>\n",
       "    <tr>\n",
       "      <th>2919</th>\n",
       "      <td>1842</td>\n",
       "      <td>Kunming</td>\n",
       "      <td>China</td>\n",
       "      <td>14.09</td>\n",
       "    </tr>\n",
       "    <tr>\n",
       "      <th>2920</th>\n",
       "      <td>1843</td>\n",
       "      <td>Kunming</td>\n",
       "      <td>China</td>\n",
       "      <td>14.20</td>\n",
       "    </tr>\n",
       "    <tr>\n",
       "      <th>2921</th>\n",
       "      <td>1844</td>\n",
       "      <td>Kunming</td>\n",
       "      <td>China</td>\n",
       "      <td>13.74</td>\n",
       "    </tr>\n",
       "  </tbody>\n",
       "</table>\n",
       "</div>"
      ],
      "text/plain": [
       "      year     city country  avg_temp\n",
       "2917  1840  Kunming   China     13.99\n",
       "2918  1841  Kunming   China     14.21\n",
       "2919  1842  Kunming   China     14.09\n",
       "2920  1843  Kunming   China     14.20\n",
       "2921  1844  Kunming   China     13.74"
      ]
     },
     "execution_count": 22,
     "metadata": {},
     "output_type": "execute_result"
    }
   ],
   "source": [
    "df_kunming.head()"
   ]
  },
  {
   "cell_type": "code",
   "execution_count": 23,
   "metadata": {},
   "outputs": [
    {
     "name": "stdout",
     "output_type": "stream",
     "text": [
      "<class 'pandas.core.frame.DataFrame'>\n",
      "Int64Index: 174 entries, 2917 to 3090\n",
      "Data columns (total 4 columns):\n",
      "year        174 non-null int64\n",
      "city        174 non-null object\n",
      "country     174 non-null object\n",
      "avg_temp    174 non-null float64\n",
      "dtypes: float64(1), int64(1), object(2)\n",
      "memory usage: 6.8+ KB\n"
     ]
    }
   ],
   "source": [
    "df_kunming.info()"
   ]
  },
  {
   "cell_type": "code",
   "execution_count": 36,
   "metadata": {},
   "outputs": [],
   "source": [
    "#求昆明的移动平均值（用rolling函数，时间序列，选5年求平均）\n",
    "df_kunming['rolling_avg_kunming']=df_kunming.avg_temp.rolling(5).mean()"
   ]
  },
  {
   "cell_type": "code",
   "execution_count": 37,
   "metadata": {},
   "outputs": [
    {
     "data": {
      "text/html": [
       "<div>\n",
       "<style scoped>\n",
       "    .dataframe tbody tr th:only-of-type {\n",
       "        vertical-align: middle;\n",
       "    }\n",
       "\n",
       "    .dataframe tbody tr th {\n",
       "        vertical-align: top;\n",
       "    }\n",
       "\n",
       "    .dataframe thead th {\n",
       "        text-align: right;\n",
       "    }\n",
       "</style>\n",
       "<table border=\"1\" class=\"dataframe\">\n",
       "  <thead>\n",
       "    <tr style=\"text-align: right;\">\n",
       "      <th></th>\n",
       "      <th>year</th>\n",
       "      <th>city</th>\n",
       "      <th>country</th>\n",
       "      <th>avg_temp</th>\n",
       "      <th>rolling_avg</th>\n",
       "      <th>rolling_avg_kunming</th>\n",
       "    </tr>\n",
       "  </thead>\n",
       "  <tbody>\n",
       "    <tr>\n",
       "      <th>2917</th>\n",
       "      <td>1840</td>\n",
       "      <td>Kunming</td>\n",
       "      <td>China</td>\n",
       "      <td>13.99</td>\n",
       "      <td>NaN</td>\n",
       "      <td>NaN</td>\n",
       "    </tr>\n",
       "    <tr>\n",
       "      <th>2918</th>\n",
       "      <td>1841</td>\n",
       "      <td>Kunming</td>\n",
       "      <td>China</td>\n",
       "      <td>14.21</td>\n",
       "      <td>NaN</td>\n",
       "      <td>NaN</td>\n",
       "    </tr>\n",
       "    <tr>\n",
       "      <th>2919</th>\n",
       "      <td>1842</td>\n",
       "      <td>Kunming</td>\n",
       "      <td>China</td>\n",
       "      <td>14.09</td>\n",
       "      <td>NaN</td>\n",
       "      <td>NaN</td>\n",
       "    </tr>\n",
       "    <tr>\n",
       "      <th>2920</th>\n",
       "      <td>1843</td>\n",
       "      <td>Kunming</td>\n",
       "      <td>China</td>\n",
       "      <td>14.20</td>\n",
       "      <td>NaN</td>\n",
       "      <td>NaN</td>\n",
       "    </tr>\n",
       "    <tr>\n",
       "      <th>2921</th>\n",
       "      <td>1844</td>\n",
       "      <td>Kunming</td>\n",
       "      <td>China</td>\n",
       "      <td>13.74</td>\n",
       "      <td>14.046</td>\n",
       "      <td>14.046</td>\n",
       "    </tr>\n",
       "  </tbody>\n",
       "</table>\n",
       "</div>"
      ],
      "text/plain": [
       "      year     city country  avg_temp  rolling_avg  rolling_avg_kunming\n",
       "2917  1840  Kunming   China     13.99          NaN                  NaN\n",
       "2918  1841  Kunming   China     14.21          NaN                  NaN\n",
       "2919  1842  Kunming   China     14.09          NaN                  NaN\n",
       "2920  1843  Kunming   China     14.20          NaN                  NaN\n",
       "2921  1844  Kunming   China     13.74       14.046               14.046"
      ]
     },
     "execution_count": 37,
     "metadata": {},
     "output_type": "execute_result"
    }
   ],
   "source": [
    "df_kunming.head()\n",
    "#新增一列，rolling_avg，1840-1843年没数据，1844年的rolling_avg=14.046=（13.99+14.21+14.09+14.20+13.74）/5"
   ]
  },
  {
   "cell_type": "code",
   "execution_count": 38,
   "metadata": {},
   "outputs": [
    {
     "name": "stdout",
     "output_type": "stream",
     "text": [
      "<class 'pandas.core.frame.DataFrame'>\n",
      "Int64Index: 266 entries, 0 to 265\n",
      "Data columns (total 3 columns):\n",
      "year             266 non-null int64\n",
      "avg_temp         266 non-null float64\n",
      "rolling_avg_g    262 non-null float64\n",
      "dtypes: float64(2), int64(1)\n",
      "memory usage: 8.3 KB\n"
     ]
    }
   ],
   "source": [
    "df_global.info()\n",
    "#全球数据的avg_temp 没有缺失值"
   ]
  },
  {
   "cell_type": "code",
   "execution_count": 39,
   "metadata": {},
   "outputs": [],
   "source": [
    "#想知道数据最早的是哪一年，按年份升序排列\n",
    "df_global=df_global.sort_values(by='year')"
   ]
  },
  {
   "cell_type": "code",
   "execution_count": 40,
   "metadata": {},
   "outputs": [
    {
     "data": {
      "text/html": [
       "<div>\n",
       "<style scoped>\n",
       "    .dataframe tbody tr th:only-of-type {\n",
       "        vertical-align: middle;\n",
       "    }\n",
       "\n",
       "    .dataframe tbody tr th {\n",
       "        vertical-align: top;\n",
       "    }\n",
       "\n",
       "    .dataframe thead th {\n",
       "        text-align: right;\n",
       "    }\n",
       "</style>\n",
       "<table border=\"1\" class=\"dataframe\">\n",
       "  <thead>\n",
       "    <tr style=\"text-align: right;\">\n",
       "      <th></th>\n",
       "      <th>year</th>\n",
       "      <th>avg_temp</th>\n",
       "      <th>rolling_avg_g</th>\n",
       "    </tr>\n",
       "  </thead>\n",
       "  <tbody>\n",
       "    <tr>\n",
       "      <th>0</th>\n",
       "      <td>1750</td>\n",
       "      <td>8.72</td>\n",
       "      <td>NaN</td>\n",
       "    </tr>\n",
       "  </tbody>\n",
       "</table>\n",
       "</div>"
      ],
      "text/plain": [
       "   year  avg_temp  rolling_avg_g\n",
       "0  1750      8.72            NaN"
      ]
     },
     "execution_count": 40,
     "metadata": {},
     "output_type": "execute_result"
    }
   ],
   "source": [
    "df_global.head(1)"
   ]
  },
  {
   "cell_type": "code",
   "execution_count": 41,
   "metadata": {},
   "outputs": [
    {
     "name": "stdout",
     "output_type": "stream",
     "text": [
      "<class 'pandas.core.frame.DataFrame'>\n",
      "Int64Index: 266 entries, 0 to 265\n",
      "Data columns (total 3 columns):\n",
      "year             266 non-null int64\n",
      "avg_temp         266 non-null float64\n",
      "rolling_avg_g    262 non-null float64\n",
      "dtypes: float64(2), int64(1)\n",
      "memory usage: 8.3 KB\n"
     ]
    }
   ],
   "source": [
    "df_global.info()"
   ]
  },
  {
   "cell_type": "code",
   "execution_count": 42,
   "metadata": {},
   "outputs": [
    {
     "data": {
      "text/html": [
       "<div>\n",
       "<style scoped>\n",
       "    .dataframe tbody tr th:only-of-type {\n",
       "        vertical-align: middle;\n",
       "    }\n",
       "\n",
       "    .dataframe tbody tr th {\n",
       "        vertical-align: top;\n",
       "    }\n",
       "\n",
       "    .dataframe thead th {\n",
       "        text-align: right;\n",
       "    }\n",
       "</style>\n",
       "<table border=\"1\" class=\"dataframe\">\n",
       "  <thead>\n",
       "    <tr style=\"text-align: right;\">\n",
       "      <th></th>\n",
       "      <th>year</th>\n",
       "      <th>avg_temp</th>\n",
       "      <th>rolling_avg_g</th>\n",
       "      <th>rolling_avg_global</th>\n",
       "    </tr>\n",
       "  </thead>\n",
       "  <tbody>\n",
       "    <tr>\n",
       "      <th>0</th>\n",
       "      <td>1750</td>\n",
       "      <td>8.72</td>\n",
       "      <td>NaN</td>\n",
       "      <td>NaN</td>\n",
       "    </tr>\n",
       "    <tr>\n",
       "      <th>1</th>\n",
       "      <td>1751</td>\n",
       "      <td>7.98</td>\n",
       "      <td>NaN</td>\n",
       "      <td>NaN</td>\n",
       "    </tr>\n",
       "    <tr>\n",
       "      <th>2</th>\n",
       "      <td>1752</td>\n",
       "      <td>5.78</td>\n",
       "      <td>NaN</td>\n",
       "      <td>NaN</td>\n",
       "    </tr>\n",
       "    <tr>\n",
       "      <th>3</th>\n",
       "      <td>1753</td>\n",
       "      <td>8.39</td>\n",
       "      <td>NaN</td>\n",
       "      <td>NaN</td>\n",
       "    </tr>\n",
       "    <tr>\n",
       "      <th>4</th>\n",
       "      <td>1754</td>\n",
       "      <td>8.47</td>\n",
       "      <td>7.868</td>\n",
       "      <td>7.868</td>\n",
       "    </tr>\n",
       "  </tbody>\n",
       "</table>\n",
       "</div>"
      ],
      "text/plain": [
       "   year  avg_temp  rolling_avg_g  rolling_avg_global\n",
       "0  1750      8.72            NaN                 NaN\n",
       "1  1751      7.98            NaN                 NaN\n",
       "2  1752      5.78            NaN                 NaN\n",
       "3  1753      8.39            NaN                 NaN\n",
       "4  1754      8.47          7.868               7.868"
      ]
     },
     "execution_count": 42,
     "metadata": {},
     "output_type": "execute_result"
    }
   ],
   "source": [
    "#计算全球气温的移动平均值\n",
    "df_global['rolling_avg_global']=df_global.avg_temp.rolling(5).mean()\n",
    "df_global.head()"
   ]
  },
  {
   "cell_type": "code",
   "execution_count": 43,
   "metadata": {},
   "outputs": [],
   "source": [
    "#难点，把昆明的移动平均值和全球的移动平均值放到一个表里（merge函数）。以year为参照，因为昆明是从1840年开始的，所以合并后的数据从1840年开始。\n",
    "df=df_kunming.merge(df_global,how='left',on='year')"
   ]
  },
  {
   "cell_type": "code",
   "execution_count": 44,
   "metadata": {},
   "outputs": [
    {
     "data": {
      "text/html": [
       "<div>\n",
       "<style scoped>\n",
       "    .dataframe tbody tr th:only-of-type {\n",
       "        vertical-align: middle;\n",
       "    }\n",
       "\n",
       "    .dataframe tbody tr th {\n",
       "        vertical-align: top;\n",
       "    }\n",
       "\n",
       "    .dataframe thead th {\n",
       "        text-align: right;\n",
       "    }\n",
       "</style>\n",
       "<table border=\"1\" class=\"dataframe\">\n",
       "  <thead>\n",
       "    <tr style=\"text-align: right;\">\n",
       "      <th></th>\n",
       "      <th>year</th>\n",
       "      <th>city</th>\n",
       "      <th>country</th>\n",
       "      <th>avg_temp_x</th>\n",
       "      <th>rolling_avg</th>\n",
       "      <th>rolling_avg_kunming</th>\n",
       "      <th>avg_temp_y</th>\n",
       "      <th>rolling_avg_g</th>\n",
       "      <th>rolling_avg_global</th>\n",
       "    </tr>\n",
       "  </thead>\n",
       "  <tbody>\n",
       "    <tr>\n",
       "      <th>0</th>\n",
       "      <td>1840</td>\n",
       "      <td>Kunming</td>\n",
       "      <td>China</td>\n",
       "      <td>13.99</td>\n",
       "      <td>NaN</td>\n",
       "      <td>NaN</td>\n",
       "      <td>7.80</td>\n",
       "      <td>7.604</td>\n",
       "      <td>7.604</td>\n",
       "    </tr>\n",
       "    <tr>\n",
       "      <th>1</th>\n",
       "      <td>1841</td>\n",
       "      <td>Kunming</td>\n",
       "      <td>China</td>\n",
       "      <td>14.21</td>\n",
       "      <td>NaN</td>\n",
       "      <td>NaN</td>\n",
       "      <td>7.69</td>\n",
       "      <td>7.602</td>\n",
       "      <td>7.602</td>\n",
       "    </tr>\n",
       "    <tr>\n",
       "      <th>2</th>\n",
       "      <td>1842</td>\n",
       "      <td>Kunming</td>\n",
       "      <td>China</td>\n",
       "      <td>14.09</td>\n",
       "      <td>NaN</td>\n",
       "      <td>NaN</td>\n",
       "      <td>8.02</td>\n",
       "      <td>7.730</td>\n",
       "      <td>7.730</td>\n",
       "    </tr>\n",
       "    <tr>\n",
       "      <th>3</th>\n",
       "      <td>1843</td>\n",
       "      <td>Kunming</td>\n",
       "      <td>China</td>\n",
       "      <td>14.20</td>\n",
       "      <td>NaN</td>\n",
       "      <td>NaN</td>\n",
       "      <td>8.17</td>\n",
       "      <td>7.862</td>\n",
       "      <td>7.862</td>\n",
       "    </tr>\n",
       "    <tr>\n",
       "      <th>4</th>\n",
       "      <td>1844</td>\n",
       "      <td>Kunming</td>\n",
       "      <td>China</td>\n",
       "      <td>13.74</td>\n",
       "      <td>14.046</td>\n",
       "      <td>14.046</td>\n",
       "      <td>7.65</td>\n",
       "      <td>7.866</td>\n",
       "      <td>7.866</td>\n",
       "    </tr>\n",
       "  </tbody>\n",
       "</table>\n",
       "</div>"
      ],
      "text/plain": [
       "   year     city country  avg_temp_x  rolling_avg  rolling_avg_kunming  \\\n",
       "0  1840  Kunming   China       13.99          NaN                  NaN   \n",
       "1  1841  Kunming   China       14.21          NaN                  NaN   \n",
       "2  1842  Kunming   China       14.09          NaN                  NaN   \n",
       "3  1843  Kunming   China       14.20          NaN                  NaN   \n",
       "4  1844  Kunming   China       13.74       14.046               14.046   \n",
       "\n",
       "   avg_temp_y  rolling_avg_g  rolling_avg_global  \n",
       "0        7.80          7.604               7.604  \n",
       "1        7.69          7.602               7.602  \n",
       "2        8.02          7.730               7.730  \n",
       "3        8.17          7.862               7.862  \n",
       "4        7.65          7.866               7.866  "
      ]
     },
     "execution_count": 44,
     "metadata": {},
     "output_type": "execute_result"
    }
   ],
   "source": [
    "df.head()"
   ]
  },
  {
   "cell_type": "markdown",
   "metadata": {},
   "source": [
    "上图为合并后的数据，因为how='left',所以昆明的在左边，全球的在右边，因为都是avg_temp列，自动变成avg_temp_x和avg_temp_y。\n",
    "故，avg_temp_x代表昆明每年的气温值，avg_temp_y代表昆明全球每年的气温值。rolling_avg是上面求出来的昆明的移动平均值，rolling_avg_g是上面求出来的全球的移动平均值。"
   ]
  },
  {
   "cell_type": "code",
   "execution_count": 45,
   "metadata": {},
   "outputs": [
    {
     "name": "stdout",
     "output_type": "stream",
     "text": [
      "<class 'pandas.core.frame.DataFrame'>\n",
      "Int64Index: 174 entries, 0 to 173\n",
      "Data columns (total 9 columns):\n",
      "year                   174 non-null int64\n",
      "city                   174 non-null object\n",
      "country                174 non-null object\n",
      "avg_temp_x             174 non-null float64\n",
      "rolling_avg            170 non-null float64\n",
      "rolling_avg_kunming    170 non-null float64\n",
      "avg_temp_y             174 non-null float64\n",
      "rolling_avg_g          174 non-null float64\n",
      "rolling_avg_global     174 non-null float64\n",
      "dtypes: float64(6), int64(1), object(2)\n",
      "memory usage: 13.6+ KB\n"
     ]
    }
   ],
   "source": [
    "#合并后的数据集的情况\n",
    "df.info()"
   ]
  },
  {
   "cell_type": "code",
   "execution_count": 46,
   "metadata": {},
   "outputs": [
    {
     "data": {
      "text/html": [
       "<div>\n",
       "<style scoped>\n",
       "    .dataframe tbody tr th:only-of-type {\n",
       "        vertical-align: middle;\n",
       "    }\n",
       "\n",
       "    .dataframe tbody tr th {\n",
       "        vertical-align: top;\n",
       "    }\n",
       "\n",
       "    .dataframe thead th {\n",
       "        text-align: right;\n",
       "    }\n",
       "</style>\n",
       "<table border=\"1\" class=\"dataframe\">\n",
       "  <thead>\n",
       "    <tr style=\"text-align: right;\">\n",
       "      <th></th>\n",
       "      <th>year</th>\n",
       "      <th>city</th>\n",
       "      <th>country</th>\n",
       "      <th>avg_temp_x</th>\n",
       "      <th>rolling_avg</th>\n",
       "      <th>rolling_avg_kunming</th>\n",
       "      <th>avg_temp_y</th>\n",
       "      <th>rolling_avg_g</th>\n",
       "      <th>rolling_avg_global</th>\n",
       "    </tr>\n",
       "  </thead>\n",
       "  <tbody>\n",
       "    <tr>\n",
       "      <th>0</th>\n",
       "      <td>1840</td>\n",
       "      <td>Kunming</td>\n",
       "      <td>China</td>\n",
       "      <td>13.99</td>\n",
       "      <td>NaN</td>\n",
       "      <td>NaN</td>\n",
       "      <td>7.80</td>\n",
       "      <td>7.604</td>\n",
       "      <td>7.604</td>\n",
       "    </tr>\n",
       "    <tr>\n",
       "      <th>1</th>\n",
       "      <td>1841</td>\n",
       "      <td>Kunming</td>\n",
       "      <td>China</td>\n",
       "      <td>14.21</td>\n",
       "      <td>NaN</td>\n",
       "      <td>NaN</td>\n",
       "      <td>7.69</td>\n",
       "      <td>7.602</td>\n",
       "      <td>7.602</td>\n",
       "    </tr>\n",
       "    <tr>\n",
       "      <th>2</th>\n",
       "      <td>1842</td>\n",
       "      <td>Kunming</td>\n",
       "      <td>China</td>\n",
       "      <td>14.09</td>\n",
       "      <td>NaN</td>\n",
       "      <td>NaN</td>\n",
       "      <td>8.02</td>\n",
       "      <td>7.730</td>\n",
       "      <td>7.730</td>\n",
       "    </tr>\n",
       "    <tr>\n",
       "      <th>3</th>\n",
       "      <td>1843</td>\n",
       "      <td>Kunming</td>\n",
       "      <td>China</td>\n",
       "      <td>14.20</td>\n",
       "      <td>NaN</td>\n",
       "      <td>NaN</td>\n",
       "      <td>8.17</td>\n",
       "      <td>7.862</td>\n",
       "      <td>7.862</td>\n",
       "    </tr>\n",
       "    <tr>\n",
       "      <th>4</th>\n",
       "      <td>1844</td>\n",
       "      <td>Kunming</td>\n",
       "      <td>China</td>\n",
       "      <td>13.74</td>\n",
       "      <td>14.046</td>\n",
       "      <td>14.046</td>\n",
       "      <td>7.65</td>\n",
       "      <td>7.866</td>\n",
       "      <td>7.866</td>\n",
       "    </tr>\n",
       "  </tbody>\n",
       "</table>\n",
       "</div>"
      ],
      "text/plain": [
       "   year     city country  avg_temp_x  rolling_avg  rolling_avg_kunming  \\\n",
       "0  1840  Kunming   China       13.99          NaN                  NaN   \n",
       "1  1841  Kunming   China       14.21          NaN                  NaN   \n",
       "2  1842  Kunming   China       14.09          NaN                  NaN   \n",
       "3  1843  Kunming   China       14.20          NaN                  NaN   \n",
       "4  1844  Kunming   China       13.74       14.046               14.046   \n",
       "\n",
       "   avg_temp_y  rolling_avg_g  rolling_avg_global  \n",
       "0        7.80          7.604               7.604  \n",
       "1        7.69          7.602               7.602  \n",
       "2        8.02          7.730               7.730  \n",
       "3        8.17          7.862               7.862  \n",
       "4        7.65          7.866               7.866  "
      ]
     },
     "execution_count": 46,
     "metadata": {},
     "output_type": "execute_result"
    }
   ],
   "source": [
    "df.head()"
   ]
  },
  {
   "cell_type": "code",
   "execution_count": 48,
   "metadata": {},
   "outputs": [
    {
     "name": "stderr",
     "output_type": "stream",
     "text": [
      "C:\\ProgramData\\Anaconda3\\lib\\site-packages\\pandas\\plotting\\_core.py:1716: UserWarning: Pandas doesn't allow columns to be created via a new attribute name - see https://pandas.pydata.org/pandas-docs/stable/indexing.html#attribute-access\n",
      "  series.name = label\n"
     ]
    },
    {
     "data": {
      "text/plain": [
       "<matplotlib.axes._subplots.AxesSubplot at 0xa7f0588>"
      ]
     },
     "execution_count": 48,
     "metadata": {},
     "output_type": "execute_result"
    },
    {
     "data": {
      "image/png": "[encoded data removed]",
      "text/plain": [
       "<matplotlib.figure.Figure at 0xab18438>"
      ]
     },
     "metadata": {},
     "output_type": "display_data"
    }
   ],
   "source": [
    "#对比昆明和全球的5年移动平均值数据，plot函数\n",
    "df.plot(x='year',y=['rolling_avg_kunming','rolling_avg_global'])"
   ]
  },
  {
   "cell_type": "code",
   "execution_count": 50,
   "metadata": {},
   "outputs": [
    {
     "name": "stderr",
     "output_type": "stream",
     "text": [
      "C:\\ProgramData\\Anaconda3\\lib\\site-packages\\pandas\\plotting\\_core.py:1716: UserWarning: Pandas doesn't allow columns to be created via a new attribute name - see https://pandas.pydata.org/pandas-docs/stable/indexing.html#attribute-access\n",
      "  series.name = label\n"
     ]
    },
    {
     "data": {
      "text/plain": [
       "<matplotlib.axes._subplots.AxesSubplot at 0xbbe6e80>"
      ]
     },
     "execution_count": 50,
     "metadata": {},
     "output_type": "execute_result"
    },
    {
     "data": {
      "image/png": "[encoded data removed]",
      "text/plain": [
       "<matplotlib.figure.Figure at 0xbbb9080>"
      ]
     },
     "metadata": {},
     "output_type": "display_data"
    }
   ],
   "source": [
    "#为什么要计算移动平均值，为什么不直接看每年的气温差异。对比昆明和全球每年的气温数据\n",
    "df.plot(x='year',y=['avg_temp_x','avg_temp_y'])"
   ]
  },
  {
   "cell_type": "markdown",
   "metadata": {},
   "source": [
    "对比5年气温的移动平均值和每年的气温趋势，发现趋势基本一致，但每年的波动更为剧烈（可能存在极大值），5年移动平均值更为平滑，如果是10年，会更平滑。"
   ]
  }
 ],
 "metadata": {
  "kernelspec": {
   "display_name": "Python 3",
   "language": "python",
   "name": "python3"
  },
  "language_info": {
   "codemirror_mode": {
    "name": "ipython",
    "version": 3
   },
   "file_extension": ".py",
   "mimetype": "text/x-python",
   "name": "python",
   "nbconvert_exporter": "python",
   "pygments_lexer": "ipython3",
   "version": "3.7.1"
  }
 },
 "nbformat": 4,
 "nbformat_minor": 2
}
